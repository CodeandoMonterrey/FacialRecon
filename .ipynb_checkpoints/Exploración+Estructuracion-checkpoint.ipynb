{
 "cells": [
  {
   "cell_type": "code",
   "execution_count": 1,
   "metadata": {
    "collapsed": true
   },
   "outputs": [],
   "source": [
    "import requests"
   ]
  },
  {
   "cell_type": "code",
   "execution_count": 2,
   "metadata": {
    "collapsed": true
   },
   "outputs": [],
   "source": [
    "# http://www.betafaceapi.com/service_json.svc/help"
   ]
  },
  {
   "cell_type": "code",
   "execution_count": 14,
   "metadata": {
    "collapsed": true
   },
   "outputs": [],
   "source": [
    "api_key= \"d45fd466-51e2-4701-8da8-04351c872236\"\n",
    "api_secret= \"171e8465-f548-401d-b63b-caf0dc28df5f\""
   ]
  },
  {
   "cell_type": "code",
   "execution_count": 15,
   "metadata": {
    "collapsed": true
   },
   "outputs": [],
   "source": [
    "def generate_url(subdomain):\n",
    "    base_url = \"http://www.betafaceapi.com/service_json.svc/\"+subdomain\n",
    "    return base_url"
   ]
  },
  {
   "cell_type": "code",
   "execution_count": 16,
   "metadata": {
    "collapsed": true
   },
   "outputs": [],
   "source": [
    "def body_fileupload(data):\n",
    "    body = {\n",
    "        \"api_key\":api_key,\n",
    "        \"api_secret\":api_secret,\n",
    "        \"detection_flags\":\"cropface,recognition,classifiers,propoints\",\n",
    "        \"imagefile_data\":data[\"image_data\"],\n",
    "        \"original_filename\":data[\"name\"]\n",
    "    }\n",
    "    return body"
   ]
  },
  {
   "cell_type": "code",
   "execution_count": 32,
   "metadata": {
    "collapsed": true
   },
   "outputs": [],
   "source": [
    "def read_image(image_name):\n",
    "    file_path = \"data/fotos/\" + image_name\n",
    "    with open(file_path, \"rb\") as image_file:\n",
    "        encoded_string = base64.b64encode(image_file.read())\n",
    "    return encoded_string"
   ]
  },
  {
   "cell_type": "code",
   "execution_count": 33,
   "metadata": {
    "collapsed": true
   },
   "outputs": [],
   "source": [
    "def get_fileupload(image_name):\n",
    "    data = {\"name\": image_name}\n",
    "    data[\"image_data\"] = read_image(image_name)\n",
    "    body = body_fileupload(data)\n",
    "    r = requests.post(generate_url(\"UploadNewImage_File\"), data= body)\n",
    "    return r"
   ]
  },
  {
   "cell_type": "code",
   "execution_count": 34,
   "metadata": {
    "collapsed": true
   },
   "outputs": [],
   "source": [
    "import os\n",
    "import base64"
   ]
  },
  {
   "cell_type": "code",
   "execution_count": 35,
   "metadata": {
    "collapsed": true
   },
   "outputs": [],
   "source": [
    "foto1 = os.listdir(\"data/fotos\")[0]"
   ]
  },
  {
   "cell_type": "code",
   "execution_count": 79,
   "metadata": {},
   "outputs": [],
   "source": [
    "r_migrante_image =get_fileupload(foto1)"
   ]
  },
  {
   "cell_type": "code",
   "execution_count": 83,
   "metadata": {},
   "outputs": [],
   "source": [
    "id_foto_migrante = r_migrante_image.json()['img_uid']"
   ]
  },
  {
   "cell_type": "code",
   "execution_count": 37,
   "metadata": {
    "collapsed": true,
    "scrolled": true
   },
   "outputs": [],
   "source": [
    "def body_fileonline(data):\n",
    "    body = {\n",
    "        \"api_key\":api_key,\n",
    "        \"api_secret\":api_secret,\n",
    "        \"detection_flags\":\"cropface,recognition,classifiers,propoints\",\n",
    "        \"image_url\":data[\"url\"],\n",
    "        \"original_filename\":data[\"name\"]\n",
    "    }\n",
    "    return body"
   ]
  },
  {
   "cell_type": "code",
   "execution_count": 38,
   "metadata": {
    "collapsed": true,
    "scrolled": true
   },
   "outputs": [],
   "source": [
    "def get_fileonline(name, url):\n",
    "    data = {\"name\": name}\n",
    "    data[\"url\"] = url \n",
    "    body = body_fileonline(data)\n",
    "    r = requests.post(generate_url(\"UploadNewImage_Url\"), data= body)\n",
    "    return r"
   ]
  },
  {
   "cell_type": "code",
   "execution_count": 64,
   "metadata": {},
   "outputs": [],
   "source": [
    "r2 =get_fileonline(\"ricardo\",\"https://scontent.fntr3-1.fna.fbcdn.net/v/t1.0-9/17498614_10154861069851117_1981373104542935937_n.jpg?oh=0d81907e995418b8ede20a7b1daf8b32&oe=59B24093\")"
   ]
  },
  {
   "cell_type": "code",
   "execution_count": 65,
   "metadata": {},
   "outputs": [
    {
     "data": {
      "text/plain": [
       "{'img_uid': 'c8a2349b-d816-4f09-9e70-957361022fb5',\n",
       " 'int_response': 0,\n",
       " 'string_response': 'ok'}"
      ]
     },
     "execution_count": 65,
     "metadata": {},
     "output_type": "execute_result"
    }
   ],
   "source": [
    "r2.json()"
   ]
  },
  {
   "cell_type": "code",
   "execution_count": 51,
   "metadata": {
    "collapsed": true
   },
   "outputs": [],
   "source": [
    "uid_ricardo = r2.json()['img_uid']"
   ]
  },
  {
   "cell_type": "code",
   "execution_count": 40,
   "metadata": {
    "collapsed": true
   },
   "outputs": [],
   "source": [
    "uploaded_data = [\n",
    "    \"https://ibb.co/c1ZorQ\",\n",
    "    \"https://ibb.co/kjgey5\",\n",
    "    \"https://ibb.co/eDVTrQ\",\n",
    "    \"https://ibb.co/e6ZorQ\",\n",
    "    \"https://ibb.co/cS1ZWQ\",\n",
    "    \"https://ibb.co/jmt3Qk\"]"
   ]
  },
  {
   "cell_type": "code",
   "execution_count": 63,
   "metadata": {
    "collapsed": true
   },
   "outputs": [],
   "source": [
    "r3 =get_fileonline(\"migrante\",\"https://ibb.co/cS1ZWQ\")"
   ]
  },
  {
   "cell_type": "code",
   "execution_count": 67,
   "metadata": {},
   "outputs": [
    {
     "data": {
      "text/plain": [
       "{'img_uid': '160ea39e-305e-4df3-a9d4-c9de5b6f88d1',\n",
       " 'int_response': 0,\n",
       " 'string_response': 'ok'}"
      ]
     },
     "execution_count": 67,
     "metadata": {},
     "output_type": "execute_result"
    }
   ],
   "source": [
    "r3.json()"
   ]
  },
  {
   "cell_type": "code",
   "execution_count": 69,
   "metadata": {
    "collapsed": true
   },
   "outputs": [],
   "source": [
    "id_migrante = r3.json()[\"img_uid\"]"
   ]
  },
  {
   "cell_type": "code",
   "execution_count": 53,
   "metadata": {},
   "outputs": [],
   "source": [
    "def get_imageinfo(image_id):\n",
    "    data = {\"id\": image_id}\n",
    "    body = body_imageinfo(data)\n",
    "    r = requests.post(generate_url(\"GetImageInfo\"), data= body)\n",
    "    return r"
   ]
  },
  {
   "cell_type": "code",
   "execution_count": 54,
   "metadata": {
    "collapsed": true
   },
   "outputs": [],
   "source": [
    "def body_imageinfo(data):\n",
    "    body = {\n",
    "        \"api_key\":api_key,\n",
    "        \"api_secret\":api_secret,\n",
    "        \"img_uid\":data[\"id\"]\n",
    "    }\n",
    "    return body"
   ]
  },
  {
   "cell_type": "code",
   "execution_count": 56,
   "metadata": {},
   "outputs": [],
   "source": [
    "response_image = get_imageinfo(uid_ricardo)"
   ]
  },
  {
   "cell_type": "code",
   "execution_count": 94,
   "metadata": {},
   "outputs": [],
   "source": [
    "face_id_ricardo = response_image.json()[\"faces\"][0][\"uid\"]"
   ]
  },
  {
   "cell_type": "code",
   "execution_count": 95,
   "metadata": {
    "collapsed": true
   },
   "outputs": [],
   "source": [
    "migrante_image = get_imageinfo(id_foto_migrante)"
   ]
  },
  {
   "cell_type": "code",
   "execution_count": 96,
   "metadata": {},
   "outputs": [
    {
     "data": {
      "text/plain": [
       "dict_keys(['int_response', 'string_response', 'checksum', 'faces', 'original_filename', 'uid'])"
      ]
     },
     "execution_count": 96,
     "metadata": {},
     "output_type": "execute_result"
    }
   ],
   "source": [
    "migrante_image.json().keys()"
   ]
  },
  {
   "cell_type": "code",
   "execution_count": 97,
   "metadata": {},
   "outputs": [],
   "source": [
    "migrante_face_id = migrante_image.json()[\"faces\"][0][\"uid\"]"
   ]
  },
  {
   "cell_type": "code",
   "execution_count": 110,
   "metadata": {
    "collapsed": true
   },
   "outputs": [],
   "source": [
    "# WIP get face."
   ]
  },
  {
   "cell_type": "code",
   "execution_count": null,
   "metadata": {
    "collapsed": true
   },
   "outputs": [],
   "source": [
    "def body_getface(data):\n",
    "    body = {\n",
    "        \"api_key\":api_key,\n",
    "        \"api_secret\":api_secret,\n",
    "        \"face_uid\":data[\"face_id\"]\n",
    "    }\n",
    "    return body"
   ]
  },
  {
   "cell_type": "code",
   "execution_count": 108,
   "metadata": {
    "collapsed": true
   },
   "outputs": [],
   "source": [
    "def get_getface(name, url):\n",
    "    data = {\"name\": name} \n",
    "    body = body_getface(data)\n",
    "    r = requests.post(generate_url(\"UploadNewImage_Url\"), data= body)\n",
    "    return r"
   ]
  },
  {
   "cell_type": "code",
   "execution_count": 109,
   "metadata": {
    "collapsed": true
   },
   "outputs": [],
   "source": [
    "# Recognize face"
   ]
  },
  {
   "cell_type": "code",
   "execution_count": 233,
   "metadata": {
    "collapsed": true
   },
   "outputs": [],
   "source": [
    "def body_RecognizeFaces(data):\n",
    "    body = {\n",
    "        \"api_key\":api_key,\n",
    "        \"api_secret\":api_secret,\n",
    "        \"face_uids\":data[\"face_id\"],\n",
    "        \"targets\": data[\"target\"]\n",
    "    }\n",
    "    return body"
   ]
  },
  {
   "cell_type": "code",
   "execution_count": 234,
   "metadata": {
    "collapsed": true
   },
   "outputs": [],
   "source": [
    "def get_RecognizeFaces(face_id, target):\n",
    "    data = {\"face_id\": stringify_list(face_id)}\n",
    "    data[\"target\"] = stringify_list(target)\n",
    "    body = body_RecognizeFaces(data)\n",
    "    r = requests.post(generate_url(\"RecognizeFaces\"), data= body)\n",
    "    return r"
   ]
  },
  {
   "cell_type": "code",
   "execution_count": 235,
   "metadata": {},
   "outputs": [],
   "source": [
    "def stringify_list(target):\n",
    "    output = \"\"\n",
    "    for i, face_id in enumerate(target): \n",
    "        if i == 0:\n",
    "            output = face_id\n",
    "        else:\n",
    "            output = output + \",\"+face_id \n",
    "    print(output)\n",
    "    return output"
   ]
  },
  {
   "cell_type": "code",
   "execution_count": null,
   "metadata": {},
   "outputs": [],
   "source": []
  },
  {
   "cell_type": "code",
   "execution_count": 238,
   "metadata": {},
   "outputs": [
    {
     "name": "stdout",
     "output_type": "stream",
     "text": [
      "18f7f2c6-371c-11e7-9f36-0cc47a6c4dbd\n",
      "18f7f2c6-371c-11e7-9f36-0cc47a6c4dbd,2a9459c5-36b5-11e7-9f36-0cc47a6c4dbd\n"
     ]
    }
   ],
   "source": [
    "response_recognize = get_RecognizeFaces([face_id_ricardo], [face_id_ricardo,migrante_face_id])"
   ]
  },
  {
   "cell_type": "code",
   "execution_count": 239,
   "metadata": {},
   "outputs": [
    {
     "data": {
      "text/plain": [
       "{'int_response': -61,\n",
       " 'recognize_uid': '00000000-0000-0000-0000-000000000000',\n",
       " 'string_response': 'error parsing comma separated list faces_uids'}"
      ]
     },
     "execution_count": 239,
     "metadata": {},
     "output_type": "execute_result"
    }
   ],
   "source": [
    "response_recognize.json()"
   ]
  },
  {
   "cell_type": "code",
   "execution_count": null,
   "metadata": {
    "collapsed": true
   },
   "outputs": [],
   "source": []
  },
  {
   "cell_type": "code",
   "execution_count": null,
   "metadata": {
    "collapsed": true
   },
   "outputs": [],
   "source": []
  },
  {
   "cell_type": "code",
   "execution_count": null,
   "metadata": {
    "collapsed": true
   },
   "outputs": [],
   "source": []
  }
 ],
 "metadata": {
  "kernelspec": {
   "display_name": "Python 3",
   "language": "python",
   "name": "python3"
  },
  "language_info": {
   "codemirror_mode": {
    "name": "ipython",
    "version": 3
   },
   "file_extension": ".py",
   "mimetype": "text/x-python",
   "name": "python",
   "nbconvert_exporter": "python",
   "pygments_lexer": "ipython3",
   "version": "3.6.1"
  }
 },
 "nbformat": 4,
 "nbformat_minor": 2
}
