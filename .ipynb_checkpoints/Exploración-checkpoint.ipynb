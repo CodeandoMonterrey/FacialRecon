{
 "cells": [
  {
   "cell_type": "code",
   "execution_count": 2,
   "metadata": {},
   "outputs": [],
   "source": [
    "import requests"
   ]
  },
  {
   "cell_type": "markdown",
   "metadata": {},
   "source": [
    "Current data storage policy: Source images are removed from cache shortly after processing. Faces that have no person/namespace assigned and corresponding image metadata are cleaned up after 10 days (face IDs and image IDs will be invalidated)."
   ]
  },
  {
   "cell_type": "markdown",
   "metadata": {},
   "source": [
    "\n",
    "```\n",
    "UploadNewImage_Url\n",
    "GetFaceImage\n",
    "RecognizeFaces\n",
    "GetRecognizeResult\n",
    "```"
   ]
  },
  {
   "cell_type": "code",
   "execution_count": 3,
   "metadata": {
    "collapsed": true
   },
   "outputs": [],
   "source": [
    "api_key= \"d45fd466-51e2-4701-8da8-04351c872236\"\n",
    "api_secret= \"171e8465-f548-401d-b63b-caf0dc28df5f\""
   ]
  },
  {
   "cell_type": "code",
   "execution_count": 15,
   "metadata": {
    "collapsed": true
   },
   "outputs": [],
   "source": [
    "def body_file(url):\n",
    "    body = {\n",
    "        \"api_key\":\"d45fd466-51e2-4701-8da8-04351c872236\",\n",
    "        \"api_secret\":\"171e8465-f548-401d-b63b-caf0dc28df5f\",\n",
    "        \"detection_flags\":\"String content\",\n",
    "        \"image_url\":url[\"url\"],\n",
    "        \"original_filename\":url[\"name\"]\n",
    "    }\n",
    "    return body"
   ]
  },
  {
   "cell_type": "code",
   "execution_count": 17,
   "metadata": {
    "collapsed": true
   },
   "outputs": [],
   "source": [
    "def body_imageinfo(data):\n",
    "    body = {\n",
    "        \"api_key\":\"d45fd466-51e2-4701-8da8-04351c872236\",\n",
    "        \"api_secret\":\"171e8465-f548-401d-b63b-caf0dc28df5f\",\n",
    "        \"original_filename\":data\n",
    "    }\n",
    "    return body"
   ]
  },
  {
   "cell_type": "code",
   "execution_count": 19,
   "metadata": {
    "collapsed": true
   },
   "outputs": [],
   "source": [
    "def body_getface(data):\n",
    "    body = {\n",
    "        \"api_key\":\"d45fd466-51e2-4701-8da8-04351c872236\",\n",
    "        \"api_secret\":\"171e8465-f548-401d-b63b-caf0dc28df5f\",\n",
    "        \"face_uid\":data\n",
    "    }\n",
    "    return body"
   ]
  },
  {
   "cell_type": "code",
   "execution_count": null,
   "metadata": {
    "collapsed": true
   },
   "outputs": [],
   "source": [
    "def body_RecognizeFaces(data):\n",
    "    body = {\n",
    "        \"api_key\":\"d45fd466-51e2-4701-8da8-04351c872236\",\n",
    "        \"api_secret\":\"171e8465-f548-401d-b63b-caf0dc28df5f\",\n",
    "        \"face_uid\":base\n",
    "        target\n",
    "    }\n",
    "    return body"
   ]
  },
  {
   "cell_type": "code",
   "execution_count": 8,
   "metadata": {},
   "outputs": [],
   "source": [
    "a = requests.post(url = \"http://www.betafaceapi.com/service_json.svc/UploadNewImage_Url\", data=generate_body(\"https://static.independent.co.uk/s3fs-public/thumbnails/image/2015/01/05/12/Ricky-Martin-Getty.jpg\"))"
   ]
  },
  {
   "cell_type": "code",
   "execution_count": 9,
   "metadata": {},
   "outputs": [
    {
     "data": {
      "text/plain": [
       "b'{\"int_response\":0,\"string_response\":\"ok\",\"img_uid\":\"28203b26-a86a-47a1-8261-701697d8a9b2\"}'"
      ]
     },
     "execution_count": 9,
     "metadata": {},
     "output_type": "execute_result"
    }
   ],
   "source": [
    "a.content"
   ]
  },
  {
   "cell_type": "code",
   "execution_count": 12,
   "metadata": {
    "collapsed": true
   },
   "outputs": [],
   "source": [
    "image_data = {\"url\": \"https://upload.wikimedia.org/wikipedia/commons/2/2b/Ricky_Martin_7%2C_2013.jpg\", \"name\": \"ricky2\"}"
   ]
  },
  {
   "cell_type": "code",
   "execution_count": 13,
   "metadata": {
    "collapsed": true
   },
   "outputs": [],
   "source": [
    "b = requests.post(url = \"http://www.betafaceapi.com/service_json.svc/UploadNewImage_Url\", data=generate_body(image_data))"
   ]
  },
  {
   "cell_type": "code",
   "execution_count": 14,
   "metadata": {},
   "outputs": [
    {
     "data": {
      "text/plain": [
       "b'{\"int_response\":0,\"string_response\":\"ok\",\"img_uid\":\"7bff1611-6ffc-470d-8aae-7900f4a2fb95\"}'"
      ]
     },
     "execution_count": 14,
     "metadata": {},
     "output_type": "execute_result"
    }
   ],
   "source": [
    "b.content"
   ]
  },
  {
   "cell_type": "code",
   "execution_count": null,
   "metadata": {
    "collapsed": true
   },
   "outputs": [],
   "source": []
  }
 ],
 "metadata": {
  "kernelspec": {
   "display_name": "Python 3",
   "language": "python",
   "name": "python3"
  },
  "language_info": {
   "codemirror_mode": {
    "name": "ipython",
    "version": 3
   },
   "file_extension": ".py",
   "mimetype": "text/x-python",
   "name": "python",
   "nbconvert_exporter": "python",
   "pygments_lexer": "ipython3",
   "version": "3.6.1"
  }
 },
 "nbformat": 4,
 "nbformat_minor": 2
}
